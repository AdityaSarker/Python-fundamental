{
 "cells": [
  {
   "cell_type": "code",
   "execution_count": 5,
   "id": "28773116",
   "metadata": {
    "collapsed": true
   },
   "outputs": [
    {
     "ename": "SyntaxError",
     "evalue": "'return' outside function (<ipython-input-5-e4b4222c155d>, line 6)",
     "output_type": "error",
     "traceback": [
      "\u001b[1;36m  File \u001b[1;32m\"<ipython-input-5-e4b4222c155d>\"\u001b[1;36m, line \u001b[1;32m6\u001b[0m\n\u001b[1;33m    return max(nums[-1] * nums[-2] * nums[-3], nums[-1] * nums[0] * nums[1])\u001b[0m\n\u001b[1;37m    ^\u001b[0m\n\u001b[1;31mSyntaxError\u001b[0m\u001b[1;31m:\u001b[0m 'return' outside function\n"
     ]
    }
   ],
   "source": [
    " #maximum product of three numbers\n",
    "    class Solution:\n",
    "    def maximumProduct(self, nums: List[int]) -> int:\n",
    "        nums.sort()\n",
    "        return max(nums[-1] * nums[-2] * nums[-3], nums[-1] * nums[0] * nums[1])\n",
    "    "
   ]
  },
  {
   "cell_type": "code",
   "execution_count": null,
   "id": "878b8029",
   "metadata": {},
   "outputs": [],
   "source": [
    "#richest customer wealth\n",
    "class Solution:\n",
    "    def maximumWealth(self, accounts: List[List[int]]) -> int:\n",
    "        account=[]\n",
    "        a=0\n",
    "        for item in accounts:\n",
    "            m=sum(accounts[a])\n",
    "            account.append(m)\n",
    "            a=a+1\n",
    "        return(max(account))\n",
    "        "
   ]
  },
  {
   "cell_type": "code",
   "execution_count": null,
   "id": "94d4e1b4",
   "metadata": {},
   "outputs": [],
   "source": [
    "#Shuffle the array\n",
    "class Solution:\n",
    "    def shuffle(self, nums: List[int], n: int) -> List[int]:\n",
    "        r=[]\n",
    "        for p in range(n):\n",
    "            r+=[nums[p],nums[p+n]]\n",
    "        return r   "
   ]
  },
  {
   "cell_type": "code",
   "execution_count": null,
   "id": "7337f839",
   "metadata": {},
   "outputs": [],
   "source": [
    "#Perfect square\n",
    "class Solution:\n",
    "    def isPerfectSquare(self, num: int) -> bool:\n",
    "        return (int(num**0.5)**2)==num"
   ]
  }
 ],
 "metadata": {
  "kernelspec": {
   "display_name": "Python 3",
   "language": "python",
   "name": "python3"
  },
  "language_info": {
   "codemirror_mode": {
    "name": "ipython",
    "version": 3
   },
   "file_extension": ".py",
   "mimetype": "text/x-python",
   "name": "python",
   "nbconvert_exporter": "python",
   "pygments_lexer": "ipython3",
   "version": "3.8.8"
  }
 },
 "nbformat": 4,
 "nbformat_minor": 5
}
